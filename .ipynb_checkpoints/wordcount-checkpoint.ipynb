{
 "cells": [
  {
   "cell_type": "code",
   "execution_count": 1,
   "metadata": {},
   "outputs": [
    {
     "ename": "NameError",
     "evalue": "global name 'sys' is not defined",
     "output_type": "error",
     "traceback": [
      "\u001b[0;31m---------------------------------------------------------------------------\u001b[0m",
      "\u001b[0;31mNameError\u001b[0m                                 Traceback (most recent call last)",
      "\u001b[0;32m<ipython-input-1-6eabc453d181>\u001b[0m in \u001b[0;36m<module>\u001b[0;34m()\u001b[0m\n\u001b[1;32m     15\u001b[0m \u001b[0;34m\u001b[0m\u001b[0m\n\u001b[1;32m     16\u001b[0m \u001b[0;32mif\u001b[0m \u001b[0m__name__\u001b[0m \u001b[0;34m==\u001b[0m \u001b[0;34m'__main__'\u001b[0m\u001b[0;34m:\u001b[0m\u001b[0;34m\u001b[0m\u001b[0m\n\u001b[0;32m---> 17\u001b[0;31m   \u001b[0mmain\u001b[0m\u001b[0;34m(\u001b[0m\u001b[0;34m)\u001b[0m\u001b[0;34m\u001b[0m\u001b[0m\n\u001b[0m",
      "\u001b[0;32m<ipython-input-1-6eabc453d181>\u001b[0m in \u001b[0;36mmain\u001b[0;34m()\u001b[0m\n\u001b[1;32m      1\u001b[0m \u001b[0;32mdef\u001b[0m \u001b[0mmain\u001b[0m\u001b[0;34m(\u001b[0m\u001b[0;34m)\u001b[0m\u001b[0;34m:\u001b[0m\u001b[0;34m\u001b[0m\u001b[0m\n\u001b[0;32m----> 2\u001b[0;31m   \u001b[0;32mif\u001b[0m \u001b[0mlen\u001b[0m\u001b[0;34m(\u001b[0m\u001b[0msys\u001b[0m\u001b[0;34m.\u001b[0m\u001b[0margv\u001b[0m\u001b[0;34m)\u001b[0m \u001b[0;34m!=\u001b[0m \u001b[0;36m3\u001b[0m\u001b[0;34m:\u001b[0m\u001b[0;34m\u001b[0m\u001b[0m\n\u001b[0m\u001b[1;32m      3\u001b[0m     \u001b[0;32mprint\u001b[0m \u001b[0;34m'usage: ./wordcount.py {--count | --topcount} file'\u001b[0m\u001b[0;34m\u001b[0m\u001b[0m\n\u001b[1;32m      4\u001b[0m     \u001b[0msys\u001b[0m\u001b[0;34m.\u001b[0m\u001b[0mexit\u001b[0m\u001b[0;34m(\u001b[0m\u001b[0;36m1\u001b[0m\u001b[0;34m)\u001b[0m\u001b[0;34m\u001b[0m\u001b[0m\n\u001b[1;32m      5\u001b[0m \u001b[0;34m\u001b[0m\u001b[0m\n",
      "\u001b[0;31mNameError\u001b[0m: global name 'sys' is not defined"
     ]
    }
   ],
   "source": [
    "def main():\n",
    "  if len(sys.argv) != 3:\n",
    "    print 'usage: ./wordcount.py {--count | --topcount} file'\n",
    "    sys.exit(1)\n",
    "\n",
    "  option = sys.argv[1]\n",
    "  filename = sys.argv[2]\n",
    "  if option == '--count':\n",
    "    print_words(filename)\n",
    "  elif option == '--topcount':\n",
    "    print_top(filename)\n",
    "  else:\n",
    "    print 'unknown option: ' + option\n",
    "    sys.exit(1)\n",
    "\n",
    "if __name__ == '__main__':\n",
    "  main()"
   ]
  },
  {
   "cell_type": "markdown",
   "metadata": {},
   "source": [
    "\"\"\"Wordcount exercise\n",
    "Google's Python class\n",
    "The main() below is already defined and complete. It calls print_words()\n",
    "and print_top() functions which you write.\n",
    "1. For the --count flag, implement a print_words(filename) function that counts\n",
    "how often each word appears in the text and prints:\n",
    "word1 count1\n",
    "word2 count2\n",
    "...\n",
    "Print the above list in order sorted by word (python will sort punctuation to\n",
    "come before letters -- that's fine). Store all the words as lowercase,\n",
    "so 'The' and 'the' count as the same word.\n",
    "2. For the --topcount flag, implement a print_top(filename) which is similar\n",
    "to print_words() but which prints just the top 20 most common words sorted\n",
    "so the most common word is first, then the next most common, and so on.\n",
    "Use str.split() (no arguments) to split on all whitespace.\n",
    "Workflow: don't build the whole program at once. Get it to an intermediate\n",
    "milestone and print your data structure and sys.exit(0).\n",
    "When that's working, try for the next milestone.\n",
    "Optional: define a helper function to avoid code duplication inside\n",
    "print_words() and print_top()."
   ]
  },
  {
   "cell_type": "code",
   "execution_count": null,
   "metadata": {},
   "outputs": [],
   "source": [
    "import sys\n",
    "\n",
    "# +++your code here+++\n",
    "# Define print_words(filename) and print_top(filename) functions.\n",
    "# You could write a helper utility function that reads a file\n",
    "# and builds and returns a word/count dict for it.\n",
    "# Then print_words() and print_top() can just call the utility function.\n",
    "\n",
    "#### LAB(begin solution)\n",
    "\n",
    "def word_count_dict(filename):\n",
    "  \"\"\"Returns a word/count dict for this filename.\"\"\"\n",
    "  # Utility used by count() and Topcount().\n",
    "  word_count = {}  # Map each word to its count\n",
    "  input_file = open(filename, 'r')\n",
    "  for line in input_file:\n",
    "    words = line.split()\n",
    "    for word in words:\n",
    "      word = word.lower()\n",
    "      # Special case if we're seeing this word for the first time.\n",
    "      if not word in word_count:\n",
    "        word_count[word] = 1\n",
    "      else:\n",
    "        word_count[word] = word_count[word] + 1\n",
    "  input_file.close()  # Not strictly required, but good form.\n",
    "  return word_count\n",
    "\n",
    "\n",
    "def print_words(filename):\n",
    "  \"\"\"Prints one per line '<word> <count>' sorted by word for the given file.\"\"\"\n",
    "  word_count = word_count_dict(filename)\n",
    "  words = sorted(word_count.keys())\n",
    "  for word in words:\n",
    "    print(word, word_count[word])\n",
    "\n",
    "\n",
    "def get_count(word_count_tuple):\n",
    "  \"\"\"Returns the count from a dict word/count tuple  -- used for custom sort.\"\"\"\n",
    "  return word_count_tuple[1]\n",
    "\n",
    "\n",
    "def print_top(filename):\n",
    "  \"\"\"Prints the top count listing for the given file.\"\"\"\n",
    "  word_count = word_count_dict(filename)\n",
    "\n",
    "  # Each item is a (word, count) tuple.\n",
    "  # Sort them so the big counts are first using key=get_count() to extract count.\n",
    "  items = sorted(word_count.items(), key=get_count, reverse=True)\n",
    "\n",
    "  # Print the first 20\n",
    "  for item in items[:20]:\n",
    "    print(item[0], item[1])\n",
    "\n",
    "##### LAB(end solution)\n",
    "\n",
    "\n",
    "# This basic command line argument parsing code is provided and\n",
    "# calls the print_words() and print_top() functions which you must define.\n",
    "def main():\n",
    "  if len(sys.argv) != 3:\n",
    "    print('usage: ./wordcount.py {--count | --topcount} file')\n",
    "    sys.exit(1)\n",
    "\n",
    "  option = sys.argv[1]\n",
    "  filename = sys.argv[2]\n",
    "  if option == '--count':\n",
    "    print_words(filename)\n",
    "  elif option == '--topcount':\n",
    "    print_top(filename)\n",
    "  else:\n",
    "    print ('unknown option: ' + option)\n",
    "    sys.exit(1)\n",
    "\n",
    "if __name__ == '__main__':\n",
    "  main()\n",
    "\n"
   ]
  },
  {
   "cell_type": "code",
   "execution_count": null,
   "metadata": {},
   "outputs": [],
   "source": [
    "def main():\n",
    "  if len(sys.argv) != 3:\n",
    "    print('usage: ./wordcount.py {--count | --topcount} file')\n",
    "    sys.exit(1)\n",
    "\n",
    "  option = sys.argv[1]\n",
    "  filename = sys.argv[2]\n",
    "  if option == '--count':\n",
    "    print_words(filename)\n",
    "  elif option == '--topcount':\n",
    "    print_top(filename)\n",
    "  else:\n",
    "    print('unknown option: ' + option)\n",
    "    sys.exit(1)\n",
    "\n",
    "if __name__ == '__main__':\n",
    "  main()"
   ]
  },
  {
   "cell_type": "code",
   "execution_count": null,
   "metadata": {},
   "outputs": [],
   "source": [
    "idle -r wordcount.py --count file\n"
   ]
  },
  {
   "cell_type": "code",
   "execution_count": null,
   "metadata": {},
   "outputs": [],
   "source": []
  },
  {
   "cell_type": "code",
   "execution_count": null,
   "metadata": {},
   "outputs": [],
   "source": []
  },
  {
   "cell_type": "code",
   "execution_count": null,
   "metadata": {},
   "outputs": [],
   "source": []
  },
  {
   "cell_type": "code",
   "execution_count": null,
   "metadata": {},
   "outputs": [],
   "source": []
  },
  {
   "cell_type": "code",
   "execution_count": null,
   "metadata": {},
   "outputs": [],
   "source": []
  },
  {
   "cell_type": "code",
   "execution_count": null,
   "metadata": {},
   "outputs": [],
   "source": []
  },
  {
   "cell_type": "code",
   "execution_count": null,
   "metadata": {},
   "outputs": [],
   "source": []
  }
 ],
 "metadata": {
  "kernelspec": {
   "display_name": "Python 2.7.17 64-bit",
   "language": "python",
   "name": "python271764bit098425401a704650b2f4d283f26e35ce"
  },
  "language_info": {
   "codemirror_mode": {
    "name": "ipython",
    "version": 2
   },
   "file_extension": ".py",
   "mimetype": "text/x-python",
   "name": "python",
   "nbconvert_exporter": "python",
   "pygments_lexer": "ipython2",
   "version": "2.7.17"
  }
 },
 "nbformat": 4,
 "nbformat_minor": 4
}
