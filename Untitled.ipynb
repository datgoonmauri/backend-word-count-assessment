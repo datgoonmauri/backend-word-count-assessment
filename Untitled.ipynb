{
 "cells": [
  {
   "cell_type": "code",
   "execution_count": 2,
   "metadata": {},
   "outputs": [],
   "source": [
    "import sys\n",
    "\n",
    "# +++your code here+++\n",
    "# Define print_words(filename) and print_top(filename) functions.\n",
    "# You could write a helper utility function that reads a file\n",
    "# and builds and returns a word/count dict for it.\n",
    "# Then print_words() and print_top() can just call the utility function.\n",
    "\n",
    "#### LAB(begin solution)\n",
    "\n",
    "def word_count_dict(filename):\n",
    "  \"\"\"Returns a word/count dict for this filename.\"\"\"\n",
    "  # Utility used by count() and Topcount().\n",
    "  word_count = {}  # Map each word to its count\n",
    "  input_file = open(filename, 'r')\n",
    "  for line in input_file:\n",
    "    words = line.split()\n",
    "    for word in words:\n",
    "      word = word.lower()\n",
    "      # Special case if we're seeing this word for the first time.\n",
    "      if not word in word_count:\n",
    "        word_count[word] = 1\n",
    "      else:\n",
    "        word_count[word] = word_count[word] + 1\n",
    "  input_file.close()  # Not strictly required, but good form.\n",
    "  return word_count\n",
    "\n",
    "\n",
    "def print_words(filename):\n",
    "  \"\"\"Prints one per line '<word> <count>' sorted by word for the given file.\"\"\"\n",
    "  word_count = word_count_dict(filename)\n",
    "  words = sorted(word_count.keys())\n",
    "  for word in words:\n",
    "    print(word, word_count[word])\n",
    "\n",
    "\n",
    "def get_count(word_count_tuple):\n",
    "  \"\"\"Returns the count from a dict word/count tuple  -- used for custom sort.\"\"\"\n",
    "  return word_count_tuple[1]\n",
    "\n",
    "\n",
    "def print_top(filename):\n",
    "  \"\"\"Prints the top count listing for the given file.\"\"\"\n",
    "  word_count = word_count_dict(filename)\n",
    "\n",
    "  # Each item is a (word, count) tuple.\n",
    "  # Sort them so the big counts are first using key=get_count() to extract count.\n",
    "  items = sorted(word_count.items(), key=get_count, reverse=True)\n",
    "\n",
    "  # Print the first 20\n",
    "  for item in items[:20]:\n",
    "    print(item[0], item[1])\n"
   ]
  },
  {
   "cell_type": "code",
   "execution_count": null,
   "metadata": {},
   "outputs": [],
   "source": []
  },
  {
   "cell_type": "code",
   "execution_count": null,
   "metadata": {},
   "outputs": [],
   "source": []
  },
  {
   "cell_type": "code",
   "execution_count": null,
   "metadata": {},
   "outputs": [],
   "source": []
  }
 ],
 "metadata": {
  "kernelspec": {
   "display_name": "Python 3.6.8 64-bit",
   "language": "python",
   "name": "python36864bit63d429c7d0b2470eb6df0dbaac7bf73e"
  },
  "language_info": {
   "codemirror_mode": {
    "name": "ipython",
    "version": 3
   },
   "file_extension": ".py",
   "mimetype": "text/x-python",
   "name": "python",
   "nbconvert_exporter": "python",
   "pygments_lexer": "ipython3",
   "version": "3.6.8"
  }
 },
 "nbformat": 4,
 "nbformat_minor": 4
}
